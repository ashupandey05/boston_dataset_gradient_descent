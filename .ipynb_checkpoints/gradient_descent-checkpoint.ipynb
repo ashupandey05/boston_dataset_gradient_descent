{
 "cells": [
  {
   "cell_type": "markdown",
   "id": "a171aa83",
   "metadata": {},
   "source": [
    "# importing necessary libraries"
   ]
  },
  {
   "cell_type": "code",
   "execution_count": 25,
   "id": "bdc397f5",
   "metadata": {},
   "outputs": [],
   "source": [
    "import numpy as np\n",
    "from sklearn import model_selection\n",
    "from sklearn import preprocessing"
   ]
  },
  {
   "cell_type": "code",
   "execution_count": null,
   "id": "edf15cf4",
   "metadata": {},
   "outputs": [],
   "source": [
    "#loadind dataset"
   ]
  },
  {
   "cell_type": "code",
   "execution_count": 26,
   "id": "1c5a6058",
   "metadata": {},
   "outputs": [
    {
     "name": "stdout",
     "output_type": "stream",
     "text": [
      "(379, 14)\n",
      "(127, 13)\n"
     ]
    }
   ],
   "source": [
    "train=np.loadtxt('./training_boston_x_y_train.csv', delimiter=',')\n",
    "test=np.loadtxt('./test_boston_x_test.csv', delimiter=',')\n",
    "print(train.shape)\n",
    "print(test.shape)"
   ]
  },
  {
   "cell_type": "code",
   "execution_count": 43,
   "id": "c4a4464a",
   "metadata": {},
   "outputs": [],
   "source": [
    "def cost(x, y, m):\n",
    "    cost = 0\n",
    "    for i in range(len(x)):\n",
    "        cost += (1/len(x))*((y[i]-sum(m*x[i]))**2)\n",
    "    return cost\n",
    "        \n",
    "def step_gradient(x, y, m, learning_rate):\n",
    "    m_slope = np.zeros(len(x[0]))\n",
    "    M = len(x)\n",
    "    for i in range(M):\n",
    "        X = x[i]\n",
    "        Y = y[i]\n",
    "        for j in range(len(X)):\n",
    "            m_slope[j] += (-2/M)*(Y-sum(m*X))*(X[j])\n",
    "    new_m = m - (learning_rate*m_slope)\n",
    "    return new_m\n",
    "\n",
    "def gd(x, y, learning_rate, number_of_iter):\n",
    "    m = np.zeros(len(x[0]))\n",
    "    for i in range(number_of_iter):\n",
    "        m = step_gradient(x, y, m, learning_rate)\n",
    "        print(\"iteration\", i, \" \", cost(x, y, m))\n",
    "    return m\n",
    "\n",
    "def gradient_descent(x, y):\n",
    "    number_of_iter = 100\n",
    "    learning_rate = 0.1\n",
    "    x = np.append(x, np.ones(len(x)).reshape(-1, 1), axis=1)\n",
    "#     print(x.shape)\n",
    "    m = gd(x, y, learning_rate, number_of_iter)\n",
    "    return m"
   ]
  },
  {
   "cell_type": "code",
   "execution_count": 44,
   "id": "beb333f1",
   "metadata": {},
   "outputs": [
    {
     "name": "stdout",
     "output_type": "stream",
     "text": [
      "iteration 0   372.6402282491625\n",
      "iteration 1   246.08068449886875\n",
      "iteration 2   166.3146252952613\n",
      "iteration 3   115.5014638404627\n",
      "iteration 4   83.05871412434605\n",
      "iteration 5   62.30835093474387\n",
      "iteration 6   49.01041492738445\n",
      "iteration 7   40.46819132006822\n",
      "iteration 8   34.964357574517365\n",
      "iteration 9   31.40411193003394\n",
      "iteration 10   29.08883961950816\n",
      "iteration 11   27.572339144821747\n",
      "iteration 12   26.569371917610482\n",
      "iteration 13   25.897428428927448\n",
      "iteration 14   25.439610994540992\n",
      "iteration 15   25.120956642829366\n",
      "iteration 16   24.893322775748786\n",
      "iteration 17   24.72573279388676\n",
      "iteration 18   24.59820571807398\n",
      "iteration 19   24.497810335880732\n",
      "iteration 20   24.416140489513502\n",
      "iteration 21   24.34769871842124\n",
      "iteration 22   24.288860770386073\n",
      "iteration 23   24.237211732207697\n",
      "iteration 24   24.191120020119126\n",
      "iteration 25   24.149463690506032\n",
      "iteration 26   24.111454347094874\n",
      "iteration 27   24.07652362150328\n",
      "iteration 28   24.044249803514337\n",
      "iteration 29   24.014310258104167\n",
      "iteration 30   23.986450424888826\n",
      "iteration 31   23.960463498173404\n",
      "iteration 32   23.93617700077588\n",
      "iteration 33   23.91344381979905\n",
      "iteration 34   23.892136141002034\n",
      "iteration 35   23.872141275354984\n",
      "iteration 36   23.853358728725958\n",
      "iteration 37   23.83569809513466\n",
      "iteration 38   23.81907750151465\n",
      "iteration 39   23.80342242685789\n",
      "iteration 40   23.788664779806144\n",
      "iteration 41   23.77474215827951\n",
      "iteration 42   23.761597240330016\n",
      "iteration 43   23.749177272046946\n",
      "iteration 44   23.737433629202133\n",
      "iteration 45   23.726321436459465\n",
      "iteration 46   23.715799232694746\n",
      "iteration 47   23.705828674127247\n",
      "iteration 48   23.696374269100204\n",
      "iteration 49   23.687403139812087\n",
      "iteration 50   23.678884807325915\n",
      "iteration 51   23.67079099691379\n",
      "iteration 52   23.66309546132732\n",
      "iteration 53   23.655773819982592\n",
      "iteration 54   23.648803412355104\n",
      "iteration 55   23.642163164117623\n",
      "iteration 56   23.635833464748124\n",
      "iteration 57   23.629796055491273\n",
      "iteration 58   23.624033926689027\n",
      "iteration 59   23.61853122360585\n",
      "iteration 60   23.613273159970525\n",
      "iteration 61   23.608245938536925\n",
      "iteration 62   23.60343667803953\n",
      "iteration 63   23.59883334598062\n",
      "iteration 64   23.594424696742504\n",
      "iteration 65   23.590200214567496\n",
      "iteration 66   23.586150060989958\n",
      "iteration 67   23.58226502634671\n",
      "iteration 68   23.57853648502371\n",
      "iteration 69   23.574956354130503\n",
      "iteration 70   23.571517055320488\n",
      "iteration 71   23.568211479500476\n",
      "iteration 72   23.56503295419624\n",
      "iteration 73   23.561975213360306\n",
      "iteration 74   23.559032369427385\n",
      "iteration 75   23.556198887439592\n",
      "iteration 76   23.553469561077847\n",
      "iteration 77   23.550839490450905\n",
      "iteration 78   23.548304061504965\n",
      "iteration 79   23.545858926928386\n",
      "iteration 80   23.543499988436857\n",
      "iteration 81   23.541223380332656\n",
      "iteration 82   23.53902545424192\n",
      "iteration 83   23.53690276493944\n",
      "iteration 84   23.534852057180238\n",
      "iteration 85   23.532870253461276\n",
      "iteration 86   23.530954442644017\n",
      "iteration 87   23.529101869374536\n",
      "iteration 88   23.527309924240583\n",
      "iteration 89   23.525576134612734\n",
      "iteration 90   23.523898156118122\n",
      "iteration 91   23.522273764701072\n",
      "iteration 92   23.520700849227772\n",
      "iteration 93   23.519177404595233\n",
      "iteration 94   23.51770152530781\n",
      "iteration 95   23.51627139948836\n",
      "iteration 96   23.514885303291795\n",
      "iteration 97   23.513541595692896\n",
      "iteration 98   23.512238713621365\n",
      "iteration 99   23.51097516741953\n"
     ]
    }
   ],
   "source": [
    "x = train[:, :-1]\n",
    "y = train[:, -1]\n",
    "# print(x)\n",
    "# print(y.shape)\n",
    "scaler = preprocessing.StandardScaler()\n",
    "scaler.fit(x)\n",
    "x = scaler.transform(x)\n",
    "# print(x.shape)\n",
    "m = gradient_descent(x, y)"
   ]
  },
  {
   "cell_type": "code",
   "execution_count": 56,
   "id": "32f2d738",
   "metadata": {
    "scrolled": true
   },
   "outputs": [
    {
     "data": {
      "text/plain": [
       "array([12.31517673, 28.85778073, 22.40527403, 24.33109015, 20.88403498,\n",
       "        2.78812171, 30.04146187, 24.73959178, 18.74852908, 23.52386225,\n",
       "       24.15216209, 17.80592577, 17.88404643, 21.79626423, 42.44825856,\n",
       "       24.00951267, 24.46692194, 27.71327168, 20.37414572, 31.34426091,\n",
       "       24.07817417, 24.92195601, 33.90708907, 36.29453348, 32.16173442,\n",
       "       16.51753828, 23.46016056, 33.17229571, 24.93241725, 33.67602985,\n",
       "       16.99660422, 26.19634555, 23.34679792, 25.4514283 , 14.99558209,\n",
       "       29.62405929, 26.23040946, 20.6166246 , 24.25588939,  9.46428399,\n",
       "        8.19848323, 28.90194917, 29.65885596, 19.89027569, 20.31675702,\n",
       "        3.04073364, 39.50655782, 25.73402594, 30.0657273 , 16.78837982,\n",
       "       17.81973296, 40.60551913, 17.56631303, 21.09865345, 15.69697081,\n",
       "       21.29105024, 18.45708433, 23.15921821, 13.76954758, 17.19128218,\n",
       "       15.12125535, 29.16445499, 25.34251897, 25.51457827, 17.10944439,\n",
       "       17.32990975, 34.65979383, 16.98350897, 26.89331367, 22.45280775,\n",
       "       29.46145827, 27.04711908, 17.85531492,  5.65884997, 36.56838475,\n",
       "       25.12756943, 29.90875957, 27.05607034, 16.1963865 , 32.75878009,\n",
       "       19.26710276, 22.90054815, 22.85380782,  8.39624625, 17.32192609,\n",
       "       29.27342614, 27.12491687,  5.77462838, 21.12791978, 20.04282977,\n",
       "       22.14178944, 20.72828753, 21.12157882, 13.1744798 , 19.81683643,\n",
       "       26.13540447, 40.10533951, 18.98112196, 33.54245207, 26.9831155 ,\n",
       "       28.61884429, 22.08331841, 25.75190395, 31.41226001, 17.17286718,\n",
       "       26.35622503, 21.64419516, 36.9556572 , 21.91550912, 16.71119241,\n",
       "       27.74628798, -0.22763487, 14.04748362, 16.14402531, 35.75466847,\n",
       "       21.13926288, 20.91748601, 25.26333438, 21.99581394, 18.93408772,\n",
       "       13.5994995 , 35.35208928, 23.21274688, 24.78430108, 17.93025541,\n",
       "       20.97040952, 14.84841382])"
      ]
     },
     "execution_count": 56,
     "metadata": {},
     "output_type": "execute_result"
    }
   ],
   "source": [
    "x = test[:, :]\n",
    "x = scaler.transform(x)\n",
    "x = np.append(x, np.ones(len(x)).reshape(-1, 1), axis=1)\n",
    "y_pred=[]\n",
    "for i in x:\n",
    "    y_pred.append(sum(m*i))\n",
    "y_pred = np.array(y_pred)\n",
    "y_pred"
   ]
  },
  {
   "cell_type": "code",
   "execution_count": 59,
   "id": "640efe31",
   "metadata": {},
   "outputs": [],
   "source": [
    "np.savetxt('predictions.csv', y_pred, fmt='%.5f', delimiter=',')"
   ]
  }
 ],
 "metadata": {
  "kernelspec": {
   "display_name": "Python 3 (ipykernel)",
   "language": "python",
   "name": "python3"
  },
  "language_info": {
   "codemirror_mode": {
    "name": "ipython",
    "version": 3
   },
   "file_extension": ".py",
   "mimetype": "text/x-python",
   "name": "python",
   "nbconvert_exporter": "python",
   "pygments_lexer": "ipython3",
   "version": "3.11.5"
  }
 },
 "nbformat": 4,
 "nbformat_minor": 5
}
